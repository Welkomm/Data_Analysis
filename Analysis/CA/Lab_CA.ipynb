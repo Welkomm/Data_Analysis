{
 "cells": [
  {
   "cell_type": "markdown",
   "metadata": {},
   "source": [
    "# Lab PCA: Principal Component Analysis (PCA) using prince on the Iris Dataset\n",
    "\n",
    "**Lab Duration:** 3 Hours\n",
    "\n",
    "**Level:** Intermediate\n",
    "\n",
    "**Prerequisites:** Basic understanding of Python, Pandas, Matplotlib, and Principal Component Analysis (PCA)\n",
    "\n",
    "## Lab Objectives\n",
    "By the end of this lab, students will be able to:\n",
    "1. Perform PCA using the prince library.\n",
    "2. Visualize the explained variance using a Scree plot.\n",
    "3. Create a Correlation Circle to interpret the relationships between original features.\n",
    "4. Generate a Score Plot to visualize the data in the principal component space.\n",
    "\n",
    "## Lab Outline\n",
    "**Part 1: Introduction to PCA and the Iris Dataset (15 minutes)**\n",
    " * Overview of PCA.\n",
    " * Description of the Iris dataset.\n",
    "**Part 2: Setting up the Environment and Loading Data (15 minutes)**\n",
    " * Installing required libraries.\n",
    " * Loading the Iris dataset using sklearn.\n",
    " * Preprocessing data with Pandas.\n",
    "**Part 3: Performing PCA using prince (30 minutes)**\n",
    " * Initializing the prince PCA model.\n",
    " * Fitting the model to the data.\n",
    " * Extracting principal components and explained variance.\n",
    "**Part 4: Visualization (60 minutes)**\n",
    " * Scree Plot: Visualizing explained variance by each principal component.\n",
    " * Correlation Circle: Understanding relationships between original features and principal components.\n",
    " * Score Plot: Visualizing the dataset in the new principal component space.\n",
    "**Part 5: Interpretation and Analysis (30 minutes)**\n",
    " * Discussing the insights obtained from the plots.\n",
    " * How to interpret the variance and the position of the features in the correlation circle.\n",
    " * Analyzing the grouping of species in the score plot.\n",
    "**Part 6: Conclusion and Q&A (30 minutes)**\n",
    " * Summarize key points.\n",
    " * Open the floor for questions and additional discussion.\n",
    "\n",
    "## Part 1: Introduction to PCA and the Iris Dataset\n",
    "**Time:** 15 minutes\n",
    "\n",
    "### PCA Overview\n",
    " * Principal Component Analysis (PCA) is a dimensionality reduction technique that transforms a dataset into a set of orthogonal (uncorrelated) variables called principal components.\n",
    " * PCA is useful for reducing the complexity of data, visualizing high-dimensional datasets, and identifying patterns.\n",
    "\n",
    "### The Iris Dataset\n",
    " * The Iris dataset consists of 150 samples of iris flowers, with 50 samples each from three species: Setosa, Versicolor, and Virginica.\n",
    " * The dataset has four features: sepal length, sepal width, petal length, and petal width."
   ]
  },
  {
   "cell_type": "markdown",
   "metadata": {},
   "source": [
    "## Part 2: Setting up the Environment and Loading Data\n",
    "**Time:** 15 minutes\n",
    "\n",
    "### Step 1: Install Required Libraries\n",
    " Install the required Python packages:\n",
    "```bash\n",
    "pip install prince pandas seaborn matplotlib scikit-learn\n",
    "```"
   ]
  },
  {
   "cell_type": "code",
   "execution_count": null,
   "metadata": {},
   "outputs": [],
   "source": [
    "# Step 2: Load the Iris Dataset\n",
    "from sklearn.datasets import load_iris\n",
    "import pandas as pd\n",
    "\n",
    "iris = load_iris()\n",
    "X = pd.DataFrame(iris.data, columns=iris.feature_names)\n",
    "y = pd.Series(iris.target, name='species')\n",
    "y = y.map({0: 'setosa', 1: 'versicolor', 2: 'virginica'})"
   ]
  },
  {
   "cell_type": "code",
   "execution_count": null,
   "metadata": {},
   "outputs": [],
   "source": [
    "# Step 3: Data Preprocessing\n",
    "# Briefly explore the dataset:\n",
    "X.head()"
   ]
  },
  {
   "cell_type": "code",
   "execution_count": null,
   "metadata": {},
   "outputs": [],
   "source": [
    "# Exploratory data analysis: using a pairplot:\n",
    "import seaborn as sns\n",
    "import matplotlib.pyplot as plt\n",
    "\n",
    "sns.pairplot(X)\n",
    "plt.show()"
   ]
  },
  {
   "cell_type": "markdown",
   "metadata": {},
   "source": [
    "## Part 3: Performing PCA using prince\n",
    "**Time:** 30 minutes\n",
    "\n",
    "### Step 1: Initialize the PCA Model\n",
    " Initialize PCA with 2 components:"
   ]
  },
  {
   "cell_type": "code",
   "execution_count": null,
   "metadata": {},
   "outputs": [],
   "source": [
    "import prince\n",
    "pca = prince.PCA(n_components=2)"
   ]
  },
  {
   "cell_type": "markdown",
   "metadata": {},
   "source": [
    "### Step 2: Fit the PCA Model\n",
    " Fit the PCA model to the Iris dataset:"
   ]
  },
  {
   "cell_type": "code",
   "execution_count": null,
   "metadata": {},
   "outputs": [],
   "source": [
    "pca = pca.fit(X)"
   ]
  },
  {
   "cell_type": "markdown",
   "metadata": {},
   "source": [
    "### Step 3: Extract Principal Components and Explained Variance\n",
    " Transform the data to principal components:"
   ]
  },
  {
   "cell_type": "code",
   "execution_count": null,
   "metadata": {},
   "outputs": [],
   "source": [
    "principal_components = pca.transform(X)"
   ]
  },
  {
   "cell_type": "code",
   "execution_count": null,
   "metadata": {},
   "outputs": [],
   "source": [
    "# Print explained variance:\n",
    "print(pca.explained_inertia_)"
   ]
  },
  {
   "cell_type": "markdown",
   "metadata": {},
   "source": [
    "## Part 4: Visualization\n",
    "**Time:** 60 minutes\n",
    "\n",
    "### Step 1: Scree Plot\n",
    " **Objective:** To visualize the explained variance by each principal component.\n",
    " **Code:**"
   ]
  },
  {
   "cell_type": "code",
   "execution_count": null,
   "metadata": {},
   "outputs": [],
   "source": [
    "pca.plot_eigenvalues()\n",
    "plt.show()"
   ]
  },
  {
   "cell_type": "markdown",
   "metadata": {},
   "source": [
    "### Step 2: Correlation Circle\n",
    " **Objective:** To visualize how the original features correlate with the principal components.\n",
    " **Code:**"
   ]
  },
  {
   "cell_type": "code",
   "execution_count": null,
   "metadata": {},
   "outputs": [],
   "source": [
    "pca.plot_correlation_circle(axes=(0, 1))\n",
    "plt.show()"
   ]
  },
  {
   "cell_type": "markdown",
   "metadata": {},
   "source": [
    "### Step 3: Score Plot\n",
    " **Objective:** To visualize the data in the principal component space.\n",
    " **Code:**"
   ]
  },
  {
   "cell_type": "code",
   "execution_count": null,
   "metadata": {},
   "outputs": [],
   "source": [
    "ax = pca.plot_row_coordinates(\n",
    "     X,\n",
    "     ax=None,\n",
    "     figsize=(6, 6),\n",
    "     x_component=0,\n",
    "     y_component=1,\n",
    "     labels=None,\n",
    "     color_labels=y,\n",
    "     ellipse_outline=False,\n",
    "     ellipse_fill=True,\n",
    "     show_points=True\n",
    " )\n",
    "plt.show()"
   ]
  },
  {
   "cell_type": "markdown",
   "metadata": {},
   "source": [
    "### Step 4: Biplot\n",
    " **Objective:** To visualize the scores of individuals/data (rows) and loadings of variable/features (columns) in the new principal component space.\n",
    " **Code:"
   ]
  },
  {
   "cell_type": "code",
   "execution_count": null,
   "metadata": {},
   "outputs": [],
   "source": [
    "biplot = pca.biplot(X, y)\n",
    "plt.show()"
   ]
  },
  {
   "cell_type": "markdown",
   "metadata": {},
   "source": [
    "## Part 5: Interpretation and Analysis\n",
    "**Time:** 30 minutes\n",
    "\n",
    "### Scree Plot Interpretation\n",
    " Discuss how much variance is explained by the first two components and the importance of higher components.\n",
    "\n",
    "### Correlation Circle Interpretation\n",
    " Discuss how each feature contributes to the principal components and what the circle tells us about feature correlations.\n",
    "\n",
    "### Score Plot Interpretation\n",
    " Discuss how the different species are grouped in the principal component space and what this tells us about the separability of the species."
   ]
  },
  {
   "cell_type": "markdown",
   "metadata": {},
   "source": [
    "## Part 6: Conclusion and Q&A\n",
    "**Time:** 30 minutes\n",
    "\n",
    "### Summary\n",
    " Recap the steps of performing PCA using prince.\n",
    " Review the insights gained from each of the visualizations.\n",
    "\n",
    "### Q&A\n",
    " Open the floor for questions.\n",
    " Discuss any challenges faced during the lab.\n",
    " Explore possible extensions or applications of PCA in other datasets."
   ]
  },
  {
   "cell_type": "markdown",
   "metadata": {},
   "source": [
    "## Additional Resources\n",
    " **Documentation:** [Prince Documentation](https://prince.readthedocs.io/en/latest/)\n",
    " **Further Reading:** Articles on PCA and dimensionality reduction techniques."
   ]
  }
 ],
 "metadata": {
  "kernelspec": {
   "display_name": "Python 3 (ipykernel)",
   "language": "python",
   "name": "python3"
  },
  "language_info": {
   "codemirror_mode": {
    "name": "ipython",
    "version": 3
   },
   "file_extension": ".py",
   "mimetype": "text/x-python",
   "name": "python",
   "nbconvert_exporter": "python",
   "pygments_lexer": "ipython3",
   "version": "3.11.4"
  }
 },
 "nbformat": 4,
 "nbformat_minor": 5
}
