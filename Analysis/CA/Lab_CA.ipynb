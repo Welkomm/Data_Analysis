{
 "cells": [
  {
   "cell_type": "markdown",
   "metadata": {},
   "source": [
    "Hello, Lab CA: Correspondence Analysis (CA) using prince on the French_elections dataset \n",
    "Lab Duration: 2-3 Hours \n",
    "Prerequisites: Basic understanding of Python, Pandas, Matplotlib, and Correspondence Analysis (CA) \n",
    " \n",
    "Lab Objectives \n",
    "By the end of this lab, students will be able to: \n",
    "1. Perform CA using the prince library. \n",
    "2. Show and interpret the eigenvalues, explained variance and cumulative explained variance. \n",
    "3. Get the new coordinates for rows (Row scores) and columns (Column scores) and show the data \n",
    "in the new Factor map. \n",
    "4. Get and interpret the column/row contributions to the total explained variance of each \n",
    "dimension.   \n",
    "5. Know the quality of representation of each point in the factor map. \n",
    " \n",
    "Lab Outline \n",
    "Part 1: Introduction to CA and the French Elections Voting Data \n",
    " Overview of CA. \n",
    " Description of the dataset (which comes with the prince library).  \n",
    "Part 2: Setting up the Environment and Loading Data  \n",
    " Installing required libraries (prince : version 0.13.1) \n",
    " Loading the French Elections Voting Data dataset using prince. \n",
    "Part 3: Performing CA using prince  \n",
    " Initializing the prince CA model. \n",
    " Fitting the model to the data. \n",
    " Getting the explained variance  \n",
    " Transforming the data and getting the new columns and rows coordinates  \n",
    "Part 4: Visualization & Interpretation \n",
    " Visualizing the data in the new dimensions (a 2-D space). \n",
    " Display rows and columns contributions.  \n",
    " \n",
    "Correspondence Analysis  Lab  (Ilyes Jenhani) \n",
    "2 \n",
    " \n",
    " Display the quality of representation of each data point on the factor maps (cosine similarities) \n",
    " Discussing the insights obtained from the plots. \n",
    "Part 5: Conclusion and Q&A  \n",
    " Summarize key points. \n",
    " \n",
    "Part 1: Introduction to CA and the French Elections Voting Data \n",
    "CA Overview \n",
    "Correspondence Analysis (CA)  \n",
    " Correspondence analysis is a useful data visualization technique for finding out and displaying \n",
    "the relationship between categories. It uses a graph that plots data, visually showing the \n",
    "outcome of two or more data points. \n",
    " CA uses a contingency tablea table of frequenciesthat shows how the categories of the \n",
    "variables are distributed. The data in the table undergoes a series of transformations in relation \n",
    "to the data around it to produce relational data. The resulting data is then plotted to show those \n",
    "relationships visually. \n",
    "The French Elections Voting Dataset \n",
    " This dataset counts the number of voters per region for each candidate in the 2022 French \n",
    "presidential elections. It can be used directly for correspondence analysis.  \n",
    " The dataset's name in this context is usually French Elections Voting Data, and it consists of a \n",
    "contingency table where the rows represent the regions or departments, and the columns \n",
    "represent the candidates. Each cell in the table holds the number of votes for a particular \n",
    "candidate in a specific region. \n",
    " \n",
    "Part 2: Setting up the Environment and Loading Data  \n",
    "Step 1: Install Required Libraries \n",
    " Install the required Python packages: \n",
    "pip install prince pandas seaborn matplotlib scikit-learn \n",
    " \n",
    " \n",
    " \n",
    " \n",
    " \n",
    "Correspondence Analysis  Lab  (Ilyes Jenhani) \n",
    "3 \n",
    " \n",
    "Step 2: Load the Dataset and display its first 5 rows \n",
    " \n",
    "Question: what do you think about the format of dataset ? \n",
    "This dataset is already available as a contingency matrix. Its more common to have at ones disposal a \n",
    "flat dataset. If this is the case, a contigency matrix can be obtained using the pivot_table function in \n",
    "pandas. \n",
    " \n",
    "Part 3: Performing CA using prince \n",
    "Step 1: Initialize the CA Model \n",
    " Initialize CA with 2 components: \n",
    " \n",
    "Q. Explain the main parameters ?  \n",
    "Step 2: Fit the CA Model \n",
    " Fit the CA model to the dataset: \n",
    " \n",
    " Print eigenvalues, explained variance and total inertia of ca \n",
    " \n",
    " \n",
    " \n",
    " \n",
    "Correspondence Analysis  Lab  (Ilyes Jenhani) \n",
    "4 \n",
    " \n",
    "Q. How is the percentage of explained variance calculated for each component? \n",
    " \n",
    "Step 3: Transforming the data and getting the new columns and rows coordinates  \n",
    "Get the rows (regions) and columns (candidates) coordinates.  \n",
    "Note that there is no ca.transform() as ca.row_coordinates() and ca.column_coordinates() already do \n",
    "the transformation.  \n",
    " \n",
    " \n",
    " \n",
    "Part 4: Visualization & Interpretation \n",
    "We can use the plot() function of prince library or use matplotlib (as we did in the PCA lab):  \n",
    " 1st visualization: Biplot showing the row and column factor maps: \n",
    " \n",
    " \n",
    "Q1. Explain the different parameters?  \n",
    "Q2. What do these factor maps show?  \n",
    " 2nd  visualization: How can we change the above parameters to get the following column factor \n",
    "map ? \n",
    " \n",
    " \n",
    "Correspondence Analysis  Lab  (Ilyes Jenhani) \n",
    "5 \n",
    " \n",
    " \n",
    " Displaying the contributions of columns to the 1st dimension in a barplot:  \n",
    " \n",
    " \n",
    " Displaying the contributions of rows to the 1st  dimension in a barplot.  \n",
    "Change the above code.  \n",
    " \n",
    " Getting the quality representation of each point in the 1st dimension:  \n",
    "- Cosine similarities of Columns (Candidates):  \n",
    " \n",
    " \n",
    "Correspondence Analysis  Lab  (Ilyes Jenhani) \n",
    "6 \n",
    " \n",
    " \n",
    " \n",
    "Part 5: Conclusions & QA \n",
    " Discuss how much variance is explained by the first two dimensions and the importance of each \n",
    "dimension. \n",
    " Discuss how columns (candidates) and rows (regions) contribute to the factors and what the plot \n",
    "tells us about the relationship about the two variables. \n",
    " \n",
    " \n",
    "Useful summary:  \n",
    "The final output of Correspondence Analysis (CA) consists of several key components that help interpret \n",
    "the relationships between the rows and columns of a contingency table (i.e., categorical variables). \n",
    "These outputs typically include: \n",
    " \n",
    "1. Row Coordinates (Row Scores) \n",
    "These are the coordinates of the rows (e.g., regions, departments) in the reduced factor space. They \n",
    "show how each row is represented on the principal dimensions (factors) derived from the analysis. \n",
    "These coordinates can be plotted to visualize how different rows are positioned relative to each other, \n",
    "indicating similarities or differences between the categories. \n",
    "2. Column Coordinates (Column Scores) \n",
    " \n",
    "Correspondence Analysis  Lab  (Ilyes Jenhani) \n",
    "7 \n",
    " \n",
    "These are the coordinates of the columns (e.g., candidates, categories) in the reduced factor space. \n",
    "Similar to row coordinates, they represent how each column relates to the principal dimensions. \n",
    "These scores can also be visualized on a scatter plot alongside the row coordinates, showing \n",
    "relationships between rows and columns. \n",
    "3. Eigenvalues and Explained Inertia \n",
    "Eigenvalues represent the amount of inertia (variance) captured by each dimension. Higher eigenvalues \n",
    "indicate dimensions that explain more of the association in the data. \n",
    "Explained inertia is the proportion of the total inertia (variance) explained by each dimension. It helps \n",
    "assess how much information is captured by the first few dimensions and determines the optimal \n",
    "number of dimensions to keep. \n",
    "4. Row Contributions \n",
    "The contribution of each row to the total inertia of a given dimension. This helps identify which rows \n",
    "(categories) are most responsible for the formation of each dimension. \n",
    "5. Column Contributions \n",
    "The contribution of each column to the total inertia of a dimension. This shows which columns \n",
    "(categories) have the greatest influence on a specific dimension. \n",
    "6. Row and Column Masses \n",
    "Row masses represent the relative importance (weight) of each row in the contingency table. \n",
    "Column masses represent the relative importance of each column. These masses are used in \n",
    "normalization during CA to account for uneven distributions. \n",
    "7. Factor Maps (Biplots) \n",
    "These are visual representations of the row and column coordinates on the first two or more \n",
    "dimensions. The row factor map shows the distribution of rows in the reduced space, while the column \n",
    "factor map shows the positioning of columns. \n",
    "A biplot can display both row and column coordinates on the same graph, showing the associations \n",
    "between rows and columns in the reduced dimensional space."
   ]
  },
  {
   "cell_type": "code",
   "execution_count": 23,
   "metadata": {},
   "outputs": [
    {
     "name": "stdout",
     "output_type": "stream",
     "text": [
      "Requirement already satisfied: prince in c:\\users\\welco\\anaconda3\\envs\\data_viz\\lib\\site-packages (0.13.1)\n",
      "Requirement already satisfied: pandas in c:\\users\\welco\\anaconda3\\envs\\data_viz\\lib\\site-packages (2.2.2)\n",
      "Requirement already satisfied: seaborn in c:\\users\\welco\\anaconda3\\envs\\data_viz\\lib\\site-packages (0.13.2)\n",
      "Requirement already satisfied: matplotlib in c:\\users\\welco\\anaconda3\\envs\\data_viz\\lib\\site-packages (3.9.2)\n",
      "Requirement already satisfied: scikit-learn in c:\\users\\welco\\anaconda3\\envs\\data_viz\\lib\\site-packages (1.5.1)\n",
      "Requirement already satisfied: altair<6.0.0,>=4.2.2 in c:\\users\\welco\\anaconda3\\envs\\data_viz\\lib\\site-packages (from prince) (5.4.1)\n",
      "Requirement already satisfied: numpy>=1.26.0 in c:\\users\\welco\\anaconda3\\envs\\data_viz\\lib\\site-packages (from pandas) (2.1.1)\n",
      "Requirement already satisfied: python-dateutil>=2.8.2 in c:\\users\\welco\\anaconda3\\envs\\data_viz\\lib\\site-packages (from pandas) (2.9.0)\n",
      "Requirement already satisfied: pytz>=2020.1 in c:\\users\\welco\\anaconda3\\envs\\data_viz\\lib\\site-packages (from pandas) (2024.2)\n",
      "Requirement already satisfied: tzdata>=2022.7 in c:\\users\\welco\\anaconda3\\envs\\data_viz\\lib\\site-packages (from pandas) (2024.1)\n",
      "Requirement already satisfied: contourpy>=1.0.1 in c:\\users\\welco\\anaconda3\\envs\\data_viz\\lib\\site-packages (from matplotlib) (1.3.0)\n",
      "Requirement already satisfied: cycler>=0.10 in c:\\users\\welco\\anaconda3\\envs\\data_viz\\lib\\site-packages (from matplotlib) (0.12.1)\n",
      "Requirement already satisfied: fonttools>=4.22.0 in c:\\users\\welco\\anaconda3\\envs\\data_viz\\lib\\site-packages (from matplotlib) (4.53.1)\n",
      "Requirement already satisfied: kiwisolver>=1.3.1 in c:\\users\\welco\\anaconda3\\envs\\data_viz\\lib\\site-packages (from matplotlib) (1.4.7)\n",
      "Requirement already satisfied: packaging>=20.0 in c:\\users\\welco\\anaconda3\\envs\\data_viz\\lib\\site-packages (from matplotlib) (24.1)\n",
      "Requirement already satisfied: pillow>=8 in c:\\users\\welco\\anaconda3\\envs\\data_viz\\lib\\site-packages (from matplotlib) (10.4.0)\n",
      "Requirement already satisfied: pyparsing>=2.3.1 in c:\\users\\welco\\anaconda3\\envs\\data_viz\\lib\\site-packages (from matplotlib) (3.1.4)\n",
      "Requirement already satisfied: scipy>=1.6.0 in c:\\users\\welco\\anaconda3\\envs\\data_viz\\lib\\site-packages (from scikit-learn) (1.14.1)\n",
      "Requirement already satisfied: joblib>=1.2.0 in c:\\users\\welco\\anaconda3\\envs\\data_viz\\lib\\site-packages (from scikit-learn) (1.4.2)\n",
      "Requirement already satisfied: threadpoolctl>=3.1.0 in c:\\users\\welco\\anaconda3\\envs\\data_viz\\lib\\site-packages (from scikit-learn) (3.5.0)\n",
      "Requirement already satisfied: jinja2 in c:\\users\\welco\\anaconda3\\envs\\data_viz\\lib\\site-packages (from altair<6.0.0,>=4.2.2->prince) (3.1.4)\n",
      "Requirement already satisfied: jsonschema>=3.0 in c:\\users\\welco\\anaconda3\\envs\\data_viz\\lib\\site-packages (from altair<6.0.0,>=4.2.2->prince) (4.23.0)\n",
      "Requirement already satisfied: narwhals>=1.5.2 in c:\\users\\welco\\anaconda3\\envs\\data_viz\\lib\\site-packages (from altair<6.0.0,>=4.2.2->prince) (1.6.4)\n",
      "Requirement already satisfied: typing-extensions>=4.10.0 in c:\\users\\welco\\anaconda3\\envs\\data_viz\\lib\\site-packages (from altair<6.0.0,>=4.2.2->prince) (4.12.2)\n",
      "Requirement already satisfied: six>=1.5 in c:\\users\\welco\\anaconda3\\envs\\data_viz\\lib\\site-packages (from python-dateutil>=2.8.2->pandas) (1.16.0)\n",
      "Requirement already satisfied: attrs>=22.2.0 in c:\\users\\welco\\anaconda3\\envs\\data_viz\\lib\\site-packages (from jsonschema>=3.0->altair<6.0.0,>=4.2.2->prince) (24.2.0)\n",
      "Requirement already satisfied: jsonschema-specifications>=2023.03.6 in c:\\users\\welco\\anaconda3\\envs\\data_viz\\lib\\site-packages (from jsonschema>=3.0->altair<6.0.0,>=4.2.2->prince) (2023.12.1)\n",
      "Requirement already satisfied: referencing>=0.28.4 in c:\\users\\welco\\anaconda3\\envs\\data_viz\\lib\\site-packages (from jsonschema>=3.0->altair<6.0.0,>=4.2.2->prince) (0.35.1)\n",
      "Requirement already satisfied: rpds-py>=0.7.1 in c:\\users\\welco\\anaconda3\\envs\\data_viz\\lib\\site-packages (from jsonschema>=3.0->altair<6.0.0,>=4.2.2->prince) (0.20.0)\n",
      "Requirement already satisfied: MarkupSafe>=2.0 in c:\\users\\welco\\anaconda3\\envs\\data_viz\\lib\\site-packages (from jinja2->altair<6.0.0,>=4.2.2->prince) (2.1.5)\n"
     ]
    }
   ],
   "source": [
    "!pip install prince pandas seaborn matplotlib scikit-learn"
   ]
  },
  {
   "cell_type": "code",
   "execution_count": 24,
   "metadata": {},
   "outputs": [],
   "source": [
    "import pandas as pd\n",
    "import prince\n",
    "import seaborn as sns\n",
    "import matplotlib.pyplot as plt"
   ]
  },
  {
   "cell_type": "markdown",
   "metadata": {},
   "source": [
    "## Part 2: Setting up the Environment and Loading Data"
   ]
  },
  {
   "cell_type": "markdown",
   "metadata": {},
   "source": [
    "### Step 2: Load the Dataset and display its first 5 rows"
   ]
  },
  {
   "cell_type": "code",
   "execution_count": 25,
   "metadata": {},
   "outputs": [
    {
     "data": {
      "text/html": [
       "<div>\n",
       "<style scoped>\n",
       "    .dataframe tbody tr th:only-of-type {\n",
       "        vertical-align: middle;\n",
       "    }\n",
       "\n",
       "    .dataframe tbody tr th {\n",
       "        vertical-align: top;\n",
       "    }\n",
       "\n",
       "    .dataframe thead th {\n",
       "        text-align: right;\n",
       "    }\n",
       "</style>\n",
       "<table border=\"1\" class=\"dataframe\">\n",
       "  <thead>\n",
       "    <tr style=\"text-align: right;\">\n",
       "      <th>candidate</th>\n",
       "      <th>Arthaud</th>\n",
       "      <th>Dupont-Aignan</th>\n",
       "      <th>Hidalgo</th>\n",
       "      <th>Jadot</th>\n",
       "      <th>Lassalle</th>\n",
       "      <th>Le Pen</th>\n",
       "      <th>Macron</th>\n",
       "      <th>Mélenchon</th>\n",
       "      <th>Poutou</th>\n",
       "      <th>Pécresse</th>\n",
       "      <th>Roussel</th>\n",
       "      <th>Zemmour</th>\n",
       "      <th>Abstention</th>\n",
       "      <th>Blank</th>\n",
       "    </tr>\n",
       "    <tr>\n",
       "      <th>region</th>\n",
       "      <th></th>\n",
       "      <th></th>\n",
       "      <th></th>\n",
       "      <th></th>\n",
       "      <th></th>\n",
       "      <th></th>\n",
       "      <th></th>\n",
       "      <th></th>\n",
       "      <th></th>\n",
       "      <th></th>\n",
       "      <th></th>\n",
       "      <th></th>\n",
       "      <th></th>\n",
       "      <th></th>\n",
       "    </tr>\n",
       "  </thead>\n",
       "  <tbody>\n",
       "    <tr>\n",
       "      <th>Auvergne-Rhône-Alpes</th>\n",
       "      <td>23137</td>\n",
       "      <td>98465</td>\n",
       "      <td>77570</td>\n",
       "      <td>224735</td>\n",
       "      <td>136436</td>\n",
       "      <td>943294</td>\n",
       "      <td>1175085</td>\n",
       "      <td>897434</td>\n",
       "      <td>30596</td>\n",
       "      <td>217906</td>\n",
       "      <td>96409</td>\n",
       "      <td>312916</td>\n",
       "      <td>1228490</td>\n",
       "      <td>70084</td>\n",
       "    </tr>\n",
       "    <tr>\n",
       "      <th>Bourgogne-Franche-Comté</th>\n",
       "      <td>10643</td>\n",
       "      <td>38691</td>\n",
       "      <td>26543</td>\n",
       "      <td>60235</td>\n",
       "      <td>49557</td>\n",
       "      <td>409639</td>\n",
       "      <td>394117</td>\n",
       "      <td>277899</td>\n",
       "      <td>12737</td>\n",
       "      <td>76654</td>\n",
       "      <td>33932</td>\n",
       "      <td>107057</td>\n",
       "      <td>456682</td>\n",
       "      <td>26381</td>\n",
       "    </tr>\n",
       "    <tr>\n",
       "      <th>Bretagne</th>\n",
       "      <td>12965</td>\n",
       "      <td>35116</td>\n",
       "      <td>43596</td>\n",
       "      <td>122198</td>\n",
       "      <td>58653</td>\n",
       "      <td>385393</td>\n",
       "      <td>647172</td>\n",
       "      <td>407527</td>\n",
       "      <td>19913</td>\n",
       "      <td>92808</td>\n",
       "      <td>51193</td>\n",
       "      <td>96984</td>\n",
       "      <td>543425</td>\n",
       "      <td>31867</td>\n",
       "    </tr>\n",
       "    <tr>\n",
       "      <th>Centre-Val de Loire</th>\n",
       "      <td>9256</td>\n",
       "      <td>31759</td>\n",
       "      <td>23162</td>\n",
       "      <td>54401</td>\n",
       "      <td>38659</td>\n",
       "      <td>347845</td>\n",
       "      <td>383851</td>\n",
       "      <td>251259</td>\n",
       "      <td>11226</td>\n",
       "      <td>71690</td>\n",
       "      <td>33590</td>\n",
       "      <td>88575</td>\n",
       "      <td>459528</td>\n",
       "      <td>23216</td>\n",
       "    </tr>\n",
       "    <tr>\n",
       "      <th>Corse</th>\n",
       "      <td>455</td>\n",
       "      <td>2600</td>\n",
       "      <td>1589</td>\n",
       "      <td>4801</td>\n",
       "      <td>15408</td>\n",
       "      <td>42283</td>\n",
       "      <td>26795</td>\n",
       "      <td>19779</td>\n",
       "      <td>1374</td>\n",
       "      <td>9363</td>\n",
       "      <td>4553</td>\n",
       "      <td>18936</td>\n",
       "      <td>90636</td>\n",
       "      <td>2521</td>\n",
       "    </tr>\n",
       "  </tbody>\n",
       "</table>\n",
       "</div>"
      ],
      "text/plain": [
       "candidate                Arthaud  Dupont-Aignan  Hidalgo   Jadot  Lassalle  \\\n",
       "region                                                                       \n",
       "Auvergne-Rhône-Alpes       23137          98465    77570  224735    136436   \n",
       "Bourgogne-Franche-Comté    10643          38691    26543   60235     49557   \n",
       "Bretagne                   12965          35116    43596  122198     58653   \n",
       "Centre-Val de Loire         9256          31759    23162   54401     38659   \n",
       "Corse                        455           2600     1589    4801     15408   \n",
       "\n",
       "candidate                Le Pen   Macron  Mélenchon  Poutou  Pécresse  \\\n",
       "region                                                                  \n",
       "Auvergne-Rhône-Alpes     943294  1175085     897434   30596    217906   \n",
       "Bourgogne-Franche-Comté  409639   394117     277899   12737     76654   \n",
       "Bretagne                 385393   647172     407527   19913     92808   \n",
       "Centre-Val de Loire      347845   383851     251259   11226     71690   \n",
       "Corse                     42283    26795      19779    1374      9363   \n",
       "\n",
       "candidate                Roussel  Zemmour  Abstention  Blank  \n",
       "region                                                        \n",
       "Auvergne-Rhône-Alpes       96409   312916     1228490  70084  \n",
       "Bourgogne-Franche-Comté    33932   107057      456682  26381  \n",
       "Bretagne                   51193    96984      543425  31867  \n",
       "Centre-Val de Loire        33590    88575      459528  23216  \n",
       "Corse                       4553    18936       90636   2521  "
      ]
     },
     "execution_count": 25,
     "metadata": {},
     "output_type": "execute_result"
    }
   ],
   "source": [
    "dataset= prince.datasets.load_french_elections()\n",
    "dataset.head()"
   ]
  },
  {
   "cell_type": "markdown",
   "metadata": {},
   "source": [
    "**Question: what do you think about the format of dataset ?**\n",
    "\n",
    "This dataset is already available as a contingency matrix. It's more common to have at one's disposal a flat dataset. If this is the case, a contingency matrix can be obtained using the `pivot_table` function in pandas."
   ]
  },
  {
   "cell_type": "markdown",
   "metadata": {},
   "source": [
    "## Part 3: Performing CA using prince"
   ]
  },
  {
   "cell_type": "markdown",
   "metadata": {},
   "source": [
    "### Step 1: Initialize the CA Model"
   ]
  },
  {
   "cell_type": "code",
   "execution_count": 26,
   "metadata": {},
   "outputs": [],
   "source": [
    "ca = prince.CA(n_components=2,\n",
    "               n_iter=3,\n",
    "               copy=True,\n",
    "               check_input=True,\n",
    "               engine='sklearn',\n",
    "               random_state=42)"
   ]
  },
  {
   "cell_type": "markdown",
   "metadata": {},
   "source": [
    "**Q. Explain the main parameters ?**\n",
    "\n",
    "* `n_components`: The number of dimensions to keep after the CA transformation (default is 2).\n",
    "* `n_iter`: The number of iterations for the power iteration algorithm (default is 3).\n",
    "* `copy`: Whether to copy the input data or modify it in place (default is True).\n",
    "* `check_input`: Whether to check the input data for validity (default is True).\n",
    "* `engine`: The engine to use for the computation ('auto', 'sklearn', or 'eigen' - default is 'auto').\n",
    "* `random_state`: The seed for the random number generator (default is None)."
   ]
  },
  {
   "cell_type": "markdown",
   "metadata": {},
   "source": [
    "### Step 2: Fit the CA Model"
   ]
  },
  {
   "cell_type": "code",
   "execution_count": 27,
   "metadata": {},
   "outputs": [],
   "source": [
    "ca = ca.fit(dataset)"
   ]
  },
  {
   "cell_type": "code",
   "execution_count": 29,
   "metadata": {},
   "outputs": [
    {
     "name": "stdout",
     "output_type": "stream",
     "text": [
      "          eigenvalue % of variance % of variance (cumulative)\n",
      "component                                                    \n",
      "0              0.021        40.82%                     40.82%\n",
      "1              0.018        36.15%                     76.97%\n",
      "0.051157489202723866\n"
     ]
    }
   ],
   "source": [
    "# Print eigenvalues, explained variance and total inertia of ca\n",
    "print(ca.eigenvalues_summary)\n",
    "print(ca.total_inertia_)"
   ]
  },
  {
   "cell_type": "markdown",
   "metadata": {},
   "source": [
    "**Q. How is the percentage of explained variance calculated for each component?**\n",
    "\n",
    "The percentage of explained variance for each component is calculated by dividing the eigenvalue of that component by the total inertia and multiplying by 100."
   ]
  },
  {
   "cell_type": "markdown",
   "metadata": {},
   "source": [
    "### Step 3: Transforming the data and getting the new columns and rows coordinates"
   ]
  },
  {
   "cell_type": "code",
   "execution_count": 33,
   "metadata": {},
   "outputs": [],
   "source": [
    "# Get the rows (regions) and columns (candidates) coordinates.\n",
    "row_coordinates = ca.row_coordinates(dataset)\n",
    "col_coordinates = ca.column_coordinates(dataset)"
   ]
  },
  {
   "cell_type": "markdown",
   "metadata": {},
   "source": [
    "**Note that there is no `ca.transform()` as `ca.row_coordinates()` and `ca.column_coordinates()` already do the transformation.**"
   ]
  },
  {
   "cell_type": "code",
   "execution_count": 34,
   "id": "d07da4b0",
   "metadata": {},
   "outputs": [
    {
     "name": "stdout",
     "output_type": "stream",
     "text": [
      "                                0         1\n",
      "region                                     \n",
      "Auvergne-Rhône-Alpes    -0.058638  0.038303\n",
      "Bourgogne-Franche-Comté -0.070815 -0.077604\n",
      "Bretagne                -0.083655  0.110491\n",
      "Centre-Val de Loire     -0.024624 -0.055799\n",
      "Corse                    0.127370 -0.281755\n",
      "                      0         1\n",
      "candidate                        \n",
      "Arthaud       -0.034732 -0.091291\n",
      "Dupont-Aignan -0.094708 -0.064696\n",
      "Hidalgo       -0.137897  0.052846\n",
      "Jadot         -0.126228  0.188836\n",
      "Lassalle      -0.271867 -0.091407\n"
     ]
    }
   ],
   "source": [
    "# Dispaly the row coordinates.\n",
    "\n",
    "print(row_coordinates.head())\n",
    "print(col_coordinates.head())"
   ]
  },
  {
   "cell_type": "markdown",
   "metadata": {},
   "source": [
    "## Part 4: Visualization & Interpretation"
   ]
  },
  {
   "cell_type": "markdown",
   "metadata": {},
   "source": [
    "We can use the `plot()` function of prince library or use matplotlib (as we did in the PCA lab):"
   ]
  },
  {
   "cell_type": "markdown",
   "metadata": {},
   "source": [
    "### 1st visualization: Biplot showing the row and column factor maps:"
   ]
  },
  {
   "cell_type": "code",
   "execution_count": 55,
   "metadata": {},
   "outputs": [
    {
     "data": {
      "text/html": [
       "\n",
       "<style>\n",
       "  #altair-viz-ef264a52f9e94771be8a4ac4296a6ec7.vega-embed {\n",
       "    width: 100%;\n",
       "    display: flex;\n",
       "  }\n",
       "\n",
       "  #altair-viz-ef264a52f9e94771be8a4ac4296a6ec7.vega-embed details,\n",
       "  #altair-viz-ef264a52f9e94771be8a4ac4296a6ec7.vega-embed details summary {\n",
       "    position: relative;\n",
       "  }\n",
       "</style>\n",
       "<div id=\"altair-viz-ef264a52f9e94771be8a4ac4296a6ec7\"></div>\n",
       "<script type=\"text/javascript\">\n",
       "  var VEGA_DEBUG = (typeof VEGA_DEBUG == \"undefined\") ? {} : VEGA_DEBUG;\n",
       "  (function(spec, embedOpt){\n",
       "    let outputDiv = document.currentScript.previousElementSibling;\n",
       "    if (outputDiv.id !== \"altair-viz-ef264a52f9e94771be8a4ac4296a6ec7\") {\n",
       "      outputDiv = document.getElementById(\"altair-viz-ef264a52f9e94771be8a4ac4296a6ec7\");\n",
       "    }\n",
       "    const paths = {\n",
       "      \"vega\": \"https://cdn.jsdelivr.net/npm/vega@5?noext\",\n",
       "      \"vega-lib\": \"https://cdn.jsdelivr.net/npm/vega-lib?noext\",\n",
       "      \"vega-lite\": \"https://cdn.jsdelivr.net/npm/vega-lite@5.20.1?noext\",\n",
       "      \"vega-embed\": \"https://cdn.jsdelivr.net/npm/vega-embed@6?noext\",\n",
       "    };\n",
       "\n",
       "    function maybeLoadScript(lib, version) {\n",
       "      var key = `${lib.replace(\"-\", \"\")}_version`;\n",
       "      return (VEGA_DEBUG[key] == version) ?\n",
       "        Promise.resolve(paths[lib]) :\n",
       "        new Promise(function(resolve, reject) {\n",
       "          var s = document.createElement('script');\n",
       "          document.getElementsByTagName(\"head\")[0].appendChild(s);\n",
       "          s.async = true;\n",
       "          s.onload = () => {\n",
       "            VEGA_DEBUG[key] = version;\n",
       "            return resolve(paths[lib]);\n",
       "          };\n",
       "          s.onerror = () => reject(`Error loading script: ${paths[lib]}`);\n",
       "          s.src = paths[lib];\n",
       "        });\n",
       "    }\n",
       "\n",
       "    function showError(err) {\n",
       "      outputDiv.innerHTML = `<div class=\"error\" style=\"color:red;\">${err}</div>`;\n",
       "      throw err;\n",
       "    }\n",
       "\n",
       "    function displayChart(vegaEmbed) {\n",
       "      vegaEmbed(outputDiv, spec, embedOpt)\n",
       "        .catch(err => showError(`Javascript Error: ${err.message}<br>This usually means there's a typo in your chart specification. See the javascript console for the full traceback.`));\n",
       "    }\n",
       "\n",
       "    if(typeof define === \"function\" && define.amd) {\n",
       "      requirejs.config({paths});\n",
       "      require([\"vega-embed\"], displayChart, err => showError(`Error loading script: ${err.message}`));\n",
       "    } else {\n",
       "      maybeLoadScript(\"vega\", \"5\")\n",
       "        .then(() => maybeLoadScript(\"vega-lite\", \"5.20.1\"))\n",
       "        .then(() => maybeLoadScript(\"vega-embed\", \"6\"))\n",
       "        .catch(showError)\n",
       "        .then(() => displayChart(vegaEmbed));\n",
       "    }\n",
       "  })({\"config\": {\"view\": {\"continuousWidth\": 300, \"continuousHeight\": 300}}, \"layer\": [{\"data\": {\"name\": \"data-4e21843749abf80cabc054fa631903cd\"}, \"mark\": {\"type\": \"circle\", \"size\": 50}, \"encoding\": {\"color\": {\"field\": \"variable\", \"type\": \"nominal\"}, \"tooltip\": [{\"field\": \"variable\", \"type\": \"nominal\"}, {\"field\": \"value\", \"type\": \"nominal\"}, {\"field\": \"component 0\", \"type\": \"quantitative\"}, {\"field\": \"component 1\", \"type\": \"quantitative\"}], \"x\": {\"axis\": {\"title\": \"component 0 \\u2014 40.82%\"}, \"field\": \"component 0\", \"scale\": {\"zero\": false}, \"type\": \"quantitative\"}, \"y\": {\"axis\": {\"title\": \"component 1 \\u2014 36.15%\"}, \"field\": \"component 1\", \"scale\": {\"zero\": false}, \"type\": \"quantitative\"}}, \"name\": \"view_8\"}, {\"data\": {\"name\": \"data-0d56b42514b677d02243b0fc52ccc547\"}, \"mark\": {\"type\": \"circle\", \"size\": 50}, \"encoding\": {\"color\": {\"field\": \"variable\", \"type\": \"nominal\"}, \"tooltip\": [{\"field\": \"variable\", \"type\": \"nominal\"}, {\"field\": \"value\", \"type\": \"nominal\"}, {\"field\": \"component 0\", \"type\": \"quantitative\"}, {\"field\": \"component 1\", \"type\": \"quantitative\"}], \"x\": {\"axis\": {\"title\": \"component 0 \\u2014 40.82%\"}, \"field\": \"component 0\", \"scale\": {\"zero\": false}, \"type\": \"quantitative\"}, \"y\": {\"axis\": {\"title\": \"component 1 \\u2014 36.15%\"}, \"field\": \"component 1\", \"scale\": {\"zero\": false}, \"type\": \"quantitative\"}}}], \"params\": [{\"name\": \"param_9\", \"select\": {\"type\": \"interval\", \"encodings\": [\"x\", \"y\"]}, \"bind\": \"scales\", \"views\": [\"view_8\"]}], \"$schema\": \"https://vega.github.io/schema/vega-lite/v5.20.1.json\", \"datasets\": {\"data-4e21843749abf80cabc054fa631903cd\": [{\"component 0\": -0.05863780298801684, \"component 1\": 0.03830303368230361, \"variable\": \"region\", \"value\": \"Auvergne-Rh\\u00f4ne-Alpes\", \"label\": \"Auvergne-Rh\\u00f4ne-Alpes\"}, {\"component 0\": -0.07081540620096784, \"component 1\": -0.07760400138326747, \"variable\": \"region\", \"value\": \"Bourgogne-Franche-Comt\\u00e9\", \"label\": \"Bourgogne-Franche-Comt\\u00e9\"}, {\"component 0\": -0.08365536312333365, \"component 1\": 0.11049076933986796, \"variable\": \"region\", \"value\": \"Bretagne\", \"label\": \"Bretagne\"}, {\"component 0\": -0.024624010383987278, \"component 1\": -0.05579864652392634, \"variable\": \"region\", \"value\": \"Centre-Val de Loire\", \"label\": \"Centre-Val de Loire\"}, {\"component 0\": 0.1273701233846306, \"component 1\": -0.2817548959977827, \"variable\": \"region\", \"value\": \"Corse\", \"label\": \"Corse\"}, {\"component 0\": -0.013450030921762363, \"component 1\": -0.1302748676917239, \"variable\": \"region\", \"value\": \"Grand Est\", \"label\": \"Grand Est\"}, {\"component 0\": 0.8189510679942219, \"component 1\": -0.08691997985451776, \"variable\": \"region\", \"value\": \"Guadeloupe\", \"label\": \"Guadeloupe\"}, {\"component 0\": 0.9093838803301519, \"component 1\": -0.1950870605684917, \"variable\": \"region\", \"value\": \"Guyane\", \"label\": \"Guyane\"}, {\"component 0\": 0.013732211529156477, \"component 1\": -0.19010506642745545, \"variable\": \"region\", \"value\": \"Hauts-de-France\", \"label\": \"Hauts-de-France\"}, {\"component 0\": 0.5699784467809027, \"component 1\": -0.12620139384006812, \"variable\": \"region\", \"value\": \"La R\\u00e9union\", \"label\": \"La R\\u00e9union\"}, {\"component 0\": 0.830652450868351, \"component 1\": -0.08346172586634067, \"variable\": \"region\", \"value\": \"Martinique\", \"label\": \"Martinique\"}, {\"component 0\": 0.7144022982162035, \"component 1\": -0.4100858633003462, \"variable\": \"region\", \"value\": \"Mayotte\", \"label\": \"Mayotte\"}, {\"component 0\": -0.03542876309508139, \"component 1\": -0.06746561826077282, \"variable\": \"region\", \"value\": \"Normandie\", \"label\": \"Normandie\"}, {\"component 0\": -0.11050741584453615, \"component 1\": -0.004011695300169967, \"variable\": \"region\", \"value\": \"Nouvelle-Aquitaine\", \"label\": \"Nouvelle-Aquitaine\"}, {\"component 0\": -0.07859242844479201, \"component 1\": -0.03331650668996922, \"variable\": \"region\", \"value\": \"Occitanie\", \"label\": \"Occitanie\"}, {\"component 0\": -0.05614440291568989, \"component 1\": 0.07216106309919251, \"variable\": \"region\", \"value\": \"Pays de la Loire\", \"label\": \"Pays de la Loire\"}, {\"component 0\": 0.011439418072918947, \"component 1\": -0.10658768661368036, \"variable\": \"region\", \"value\": \"Provence-Alpes-C\\u00f4te d'Azur\", \"label\": \"Provence-Alpes-C\\u00f4te d'Azur\"}, {\"component 0\": 0.09161017774209004, \"component 1\": 0.2510566007649314, \"variable\": \"region\", \"value\": \"\\u00cele-de-France\", \"label\": \"\\u00cele-de-France\"}], \"data-0d56b42514b677d02243b0fc52ccc547\": [{\"component 0\": -0.03473175701649927, \"component 1\": -0.09129069808968168, \"variable\": \"candidate\", \"value\": \"Arthaud\", \"label\": \"Arthaud\"}, {\"component 0\": -0.09470816476067653, \"component 1\": -0.06469559978922419, \"variable\": \"candidate\", \"value\": \"Dupont-Aignan\", \"label\": \"Dupont-Aignan\"}, {\"component 0\": -0.13789664410966385, \"component 1\": 0.052846144209970226, \"variable\": \"candidate\", \"value\": \"Hidalgo\", \"label\": \"Hidalgo\"}, {\"component 0\": -0.12622833356116886, \"component 1\": 0.1888359673722399, \"variable\": \"candidate\", \"value\": \"Jadot\", \"label\": \"Jadot\"}, {\"component 0\": -0.2718670495982157, \"component 1\": -0.09140713874793183, \"variable\": \"candidate\", \"value\": \"Lassalle\", \"label\": \"Lassalle\"}, {\"component 0\": -0.11705635918325398, \"component 1\": -0.2156792403202124, \"variable\": \"candidate\", \"value\": \"Le Pen\", \"label\": \"Le Pen\"}, {\"component 0\": -0.10602671271196835, \"component 1\": 0.10219861920069193, \"variable\": \"candidate\", \"value\": \"Macron\", \"label\": \"Macron\"}, {\"component 0\": 0.0904916637885146, \"component 1\": 0.16251682008581853, \"variable\": \"candidate\", \"value\": \"M\\u00e9lenchon\", \"label\": \"M\\u00e9lenchon\"}, {\"component 0\": -0.12418309730025903, \"component 1\": -0.010074260227207671, \"variable\": \"candidate\", \"value\": \"Poutou\", \"label\": \"Poutou\"}, {\"component 0\": -0.06281907093170777, \"component 1\": 0.16385984822107882, \"variable\": \"candidate\", \"value\": \"P\\u00e9cresse\", \"label\": \"P\\u00e9cresse\"}, {\"component 0\": -0.17160912725900213, \"component 1\": -0.034664844004597704, \"variable\": \"candidate\", \"value\": \"Roussel\", \"label\": \"Roussel\"}, {\"component 0\": -0.09180172598570406, \"component 1\": 0.008808114295821071, \"variable\": \"candidate\", \"value\": \"Zemmour\", \"label\": \"Zemmour\"}, {\"component 0\": 0.2106832275207779, \"component 1\": -0.07726647824246717, \"variable\": \"candidate\", \"value\": \"Abstention\", \"label\": \"Abstention\"}, {\"component 0\": -0.040778911154341936, \"component 1\": 0.012151459979702373, \"variable\": \"candidate\", \"value\": \"Blank\", \"label\": \"Blank\"}]}}, {\"mode\": \"vega-lite\"});\n",
       "</script>"
      ],
      "text/plain": [
       "alt.LayerChart(...)"
      ]
     },
     "execution_count": 55,
     "metadata": {},
     "output_type": "execute_result"
    }
   ],
   "source": [
    "ca.plot(\n",
    "     dataset,\n",
    "     x_component=0,\n",
    "     y_component=1,\n",
    "     show_row_markers=True,\n",
    "     show_column_markers=True,\n",
    "     show_row_labels=False,\n",
    "     show_column_labels=False\n",
    " )\n"
   ]
  },
  {
   "cell_type": "markdown",
   "metadata": {},
   "source": [
    "**Q1. Explain the different parameters?**\n",
    "\n",
    "* `X`: The input data.\n",
    "* `ax`: The matplotlib axes to plot on (default is None).\n",
    "* `figsize`: The size of the figure (default is (6, 6)).\n",
    "* `x_component`: The component to plot on the x-axis (default is 0).\n",
    "* `y_component`: The component to plot on the y-axis (default is 1).\n",
    "* `show_row_labels`: Whether to show the row labels (default is True).\n",
    "* `show_col_labels`: Whether to show the column labels (default is True)."
   ]
  },
  {
   "cell_type": "markdown",
   "metadata": {},
   "source": [
    "**Q2. What do these factor maps show?**\n",
    "\n",
    "These factor maps show the relationships between the rows (regions) and columns (candidates) in the reduced dimensional space. The closer two points are on the map, the more similar they are in terms of their voting patterns. The further apart two points are, the more dissimilar they are."
   ]
  },
  {
   "cell_type": "markdown",
   "metadata": {},
   "source": [
    "### 2nd visualization: How can we change the above parameters to get the following column factor map?"
   ]
  },
  {
   "cell_type": "code",
   "execution_count": null,
   "metadata": {},
   "outputs": [],
   "source": [
    "ax = ca.plot_coordinates(\n",
    "     X=X,\n",
    "     ax=None,\n",
    "     figsize=(6, 6),\n",
    "     x_component=0,\n",
    "     y_component=1,\n",
    "     show_row_labels=False,\n",
    "     show_col_labels=True\n",
    " )\n",
    "plt.show()"
   ]
  },
  {
   "cell_type": "markdown",
   "metadata": {},
   "source": [
    "To get the column factor map only, we set `show_row_labels=False`."
   ]
  },
  {
   "cell_type": "markdown",
   "metadata": {},
   "source": [
    "### Displaying the contributions of columns to the 1st dimension in a barplot:"
   ]
  },
  {
   "cell_type": "code",
   "execution_count": null,
   "metadata": {},
   "outputs": [],
   "source": [
    "ca.column_contributions_.sort_values(by=['Dim. 1'], ascending=False, inplace=True)\n",
    "sns.barplot(x=ca.column_contributions_['Dim. 1'], y=ca.column_contributions_.index)\n",
    "plt.title('Contributions of columns to Dim.1')\n",
    "plt.show()"
   ]
  },
  {
   "cell_type": "markdown",
   "metadata": {},
   "source": [
    "### Displaying the contributions of rows to the 1st dimension in a barplot:"
   ]
  },
  {
   "cell_type": "code",
   "execution_count": null,
   "metadata": {},
   "outputs": [],
   "source": [
    "ca.row_contributions_.sort_values(by=['Dim. 1'], ascending=False, inplace=True)\n",
    "sns.barplot(x=ca.row_contributions_['Dim. 1'], y=ca.row_contributions_.index)\n",
    "plt.title('Contributions of rows to Dim.1')\n",
    "plt.show()"
   ]
  },
  {
   "cell_type": "markdown",
   "metadata": {},
   "source": [
    "### Getting the quality representation of each point in the 1st dimension:"
   ]
  },
  {
   "cell_type": "markdown",
   "metadata": {},
   "source": [
    "#### - Cosine similarities of Columns (Candidates):"
   ]
  },
  {
   "cell_type": "code",
   "execution_count": null,
   "metadata": {},
   "outputs": [],
   "source": [
    "cos2_cols = ca.column_cosine_similarities_\n",
    "print(cos2_cols)"
   ]
  },
  {
   "cell_type": "markdown",
   "metadata": {},
   "source": [
    "## Part 5: Conclusions & QA"
   ]
  },
  {
   "cell_type": "markdown",
   "metadata": {},
   "source": [
    "**Discuss how much variance is explained by the first two dimensions and the importance of each dimension.**\n",
    "\n",
    "**Discuss how columns (candidates) and rows (regions) contribute to the factors and what the plot tells us about the relationship about the two variables.**"
   ]
  },
  {
   "cell_type": "markdown",
   "metadata": {},
   "source": [
    "**Useful summary:**\n",
    "\n",
    "The final output of Correspondence Analysis (CA) consists of several key components that help interpret the relationships between the rows and columns of a contingency table (i.e., categorical variables). These outputs typically include:\n",
    "\n",
    "**1. Row Coordinates (Row Scores)**\n",
    "These are the coordinates of the rows (e.g., regions, departments) in the reduced factor space. They show how each row is represented on the principal dimensions (factors) derived from the analysis. These coordinates can be plotted to visualize how different rows are positioned relative to each other, indicating similarities or differences between the categories.\n",
    "**2. Column Coordinates (Column Scores)**\n",
    "These are the coordinates of the columns (e.g., candidates, categories) in the reduced factor space. Similar to row coordinates, they represent how each column relates to the principal dimensions. These scores can also be visualized on a scatter plot alongside the row coordinates, showing relationships between rows and columns.\n",
    "**3. Eigenvalues and Explained Inertia**\n",
    "Eigenvalues represent the amount of inertia (variance) captured by each dimension. Higher eigenvalues indicate dimensions that explain more of the association in the data. Explained inertia is the proportion of the total inertia (variance) explained by each dimension. It helps assess how much information is captured by the first few dimensions and determines the optimal number of dimensions to keep.\n",
    "**4. Row Contributions**\n",
    "The contribution of each row to the total inertia of a given dimension. This helps identify which rows (categories) are most responsible for the formation of each dimension.\n",
    "**5. Column Contributions**\n",
    "The contribution of each column to the total inertia of a dimension. This shows which columns (categories) have the greatest influence on a specific dimension.\n",
    "**6. Row and Column Masses**\n",
    "Row masses represent the relative importance (weight) of each row in the contingency table. Column masses represent the relative importance of each column. These masses are used in normalization during CA to account for uneven distributions.\n",
    "**7. Factor Maps (Biplots)**\n",
    "These are visual representations of the row and column coordinates on the first two or more dimensions. The row factor map shows the distribution of rows in the reduced space, while the column factor map shows the positioning of columns. A biplot can display both row and column coordinates on the same graph, showing the associations between rows and columns in the reduced dimensional space."
   ]
  }
 ],
 "metadata": {
  "kernelspec": {
   "display_name": "Python 3",
   "language": "python",
   "name": "python3"
  },
  "language_info": {
   "codemirror_mode": {
    "name": "ipython",
    "version": 3
   },
   "file_extension": ".py",
   "mimetype": "text/x-python",
   "name": "python",
   "nbconvert_exporter": "python",
   "pygments_lexer": "ipython3",
   "version": "3.12.4"
  }
 },
 "nbformat": 4,
 "nbformat_minor": 5
}
