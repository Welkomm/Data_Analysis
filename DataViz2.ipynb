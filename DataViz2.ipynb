{
 "cells": [
  {
   "cell_type": "markdown",
   "metadata": {},
   "source": [
    "**@author : Samuel BIENVENU** \n",
    "\n",
    "**@email : samuel.bienvenu@protonmail.com** \n",
    "\n",
    "Python provides a variety of libraries that offer different features for data visualization. All of these libraries offer different functionality and can support different types of charts. \n",
    "\n",
    "In this tutorial, we will discuss four of these libraries.\n",
    " - [Seaborn](https://seaborn.pydata.org/examples/index.html) \n",
    " - [Bokeh](https://docs.bokeh.org/en/latest/docs/gallery.html#notebook-examples) \n",
    " - [Plotly](https://plotly.com/python/) \n",
    " - [Altair](https://altair-viz.github.io/gallery/) \n",
    "\n",
    "We will discuss these libraries one by one and will plot some most commonly used graphs."
   ]
  },
  {
   "cell_type": "code",
   "execution_count": 1,
   "metadata": {},
   "outputs": [],
   "source": [
    "# Importing libaries and dataset\n",
    "\n",
    "import pandas as pd # reading the database \n",
    "data = pd.read_csv(\"tips.csv\",delimiter =',') "
   ]
  },
  {
   "cell_type": "code",
   "execution_count": 4,
   "metadata": {},
   "outputs": [
    {
     "data": {
      "text/html": [
       "<div>\n",
       "<style scoped>\n",
       "    .dataframe tbody tr th:only-of-type {\n",
       "        vertical-align: middle;\n",
       "    }\n",
       "\n",
       "    .dataframe tbody tr th {\n",
       "        vertical-align: top;\n",
       "    }\n",
       "\n",
       "    .dataframe thead th {\n",
       "        text-align: right;\n",
       "    }\n",
       "</style>\n",
       "<table border=\"1\" class=\"dataframe\">\n",
       "  <thead>\n",
       "    <tr style=\"text-align: right;\">\n",
       "      <th></th>\n",
       "      <th>total_bill</th>\n",
       "      <th>tip</th>\n",
       "      <th>sex</th>\n",
       "      <th>smoker</th>\n",
       "      <th>day</th>\n",
       "      <th>time</th>\n",
       "      <th>size</th>\n",
       "    </tr>\n",
       "  </thead>\n",
       "  <tbody>\n",
       "    <tr>\n",
       "      <th>0</th>\n",
       "      <td>16.99</td>\n",
       "      <td>1.01</td>\n",
       "      <td>Female</td>\n",
       "      <td>No</td>\n",
       "      <td>Sun</td>\n",
       "      <td>Dinner</td>\n",
       "      <td>2</td>\n",
       "    </tr>\n",
       "    <tr>\n",
       "      <th>1</th>\n",
       "      <td>10.34</td>\n",
       "      <td>1.66</td>\n",
       "      <td>Male</td>\n",
       "      <td>No</td>\n",
       "      <td>Sun</td>\n",
       "      <td>Dinner</td>\n",
       "      <td>3</td>\n",
       "    </tr>\n",
       "    <tr>\n",
       "      <th>2</th>\n",
       "      <td>21.01</td>\n",
       "      <td>3.50</td>\n",
       "      <td>Male</td>\n",
       "      <td>No</td>\n",
       "      <td>Sun</td>\n",
       "      <td>Dinner</td>\n",
       "      <td>3</td>\n",
       "    </tr>\n",
       "    <tr>\n",
       "      <th>3</th>\n",
       "      <td>23.68</td>\n",
       "      <td>3.31</td>\n",
       "      <td>Male</td>\n",
       "      <td>No</td>\n",
       "      <td>Sun</td>\n",
       "      <td>Dinner</td>\n",
       "      <td>2</td>\n",
       "    </tr>\n",
       "    <tr>\n",
       "      <th>4</th>\n",
       "      <td>24.59</td>\n",
       "      <td>3.61</td>\n",
       "      <td>Female</td>\n",
       "      <td>No</td>\n",
       "      <td>Sun</td>\n",
       "      <td>Dinner</td>\n",
       "      <td>4</td>\n",
       "    </tr>\n",
       "  </tbody>\n",
       "</table>\n",
       "</div>"
      ],
      "text/plain": [
       "   total_bill   tip     sex smoker  day    time  size\n",
       "0       16.99  1.01  Female     No  Sun  Dinner     2\n",
       "1       10.34  1.66    Male     No  Sun  Dinner     3\n",
       "2       21.01  3.50    Male     No  Sun  Dinner     3\n",
       "3       23.68  3.31    Male     No  Sun  Dinner     2\n",
       "4       24.59  3.61  Female     No  Sun  Dinner     4"
      ]
     },
     "execution_count": 4,
     "metadata": {},
     "output_type": "execute_result"
    }
   ],
   "source": [
    "data.head()# printing the top 5 rows and bottom 5 rows"
   ]
  },
  {
   "cell_type": "code",
   "execution_count": null,
   "metadata": {},
   "outputs": [],
   "source": [
    "# Checking missing information in the file\n",
    "\n",
    "!pip install missingno"
   ]
  },
  {
   "cell_type": "code",
   "execution_count": null,
   "metadata": {},
   "outputs": [],
   "source": [
    "import missingno as msno \n",
    "import matplotlib.pyplot as plt \n",
    "\n",
    "%matplotlib inline #For Jupyter notebooks \n",
    "\n",
    "# Visualize missing data as a bar chart \n",
    "msno.bar(data) plt.show() \n",
    "e missing data as a matrix msno.matrix(data) plt.show() # Visualize missing data as a heatmap msno.heatmap(data) \n"
   ]
  },
  {
   "cell_type": "code",
   "execution_count": null,
   "metadata": {},
   "outputs": [],
   "source": [
    "import missingno as msno \n",
    "import matplotlib.pyplot as plt \n",
    "%matplotlib inline #For Jupyter notebooks \n",
    "\n",
    "# Visualize missing data as a bar chart \n",
    "msno.bar(data) \n",
    "plt.show()"
   ]
  },
  {
   "cell_type": "code",
   "execution_count": null,
   "metadata": {},
   "outputs": [],
   "source": [
    "# Visualize missing data as a matrix \n",
    "msno.matrix(data) \n",
    "plt.show() "
   ]
  },
  {
   "cell_type": "code",
   "execution_count": null,
   "metadata": {},
   "outputs": [],
   "source": [
    "# Visualize missing data as a heatmap \n",
    "msno.heatmap(data) \n",
    "plt.show()"
   ]
  },
  {
   "cell_type": "code",
   "execution_count": null,
   "metadata": {},
   "outputs": [],
   "source": [
    "data.info()"
   ]
  },
  {
   "cell_type": "code",
   "execution_count": null,
   "metadata": {},
   "outputs": [],
   "source": [
    "data.describe()"
   ]
  },
  {
   "cell_type": "markdown",
   "metadata": {},
   "source": [
    "**Seaborn** \n",
    "\n",
    "Seaborn is a Python data visualization library based on matplotlib. It provides a high-level interface for drawing attractive and informative statistical graphics."
   ]
  },
  {
   "cell_type": "code",
   "execution_count": null,
   "metadata": {},
   "outputs": [],
   "source": [
    "!pip install seaborn"
   ]
  },
  {
   "cell_type": "code",
   "execution_count": null,
   "metadata": {},
   "outputs": [],
   "source": [
    "# importing packages \n",
    "import seaborn as sns \n",
    "import matplotlib.pyplot as plt \n",
    "import pandas as pd \n",
    "\n",
    "# draw lineplot \n",
    "sns.lineplot(x=\"sex\", y=\"total_bill\", data=data)\n",
    "# setting the title using Matplotlib \n",
    "plt.title('Title using Matplotlib Function') \n",
    "plt.show()"
   ]
  },
  {
   "cell_type": "markdown",
   "metadata": {},
   "source": [
    "**Scatter Plot** \n",
    "\n",
    "Scatter plot is plotted using the **scatterplot()** method. This is similar to Matplotlib, but additional argument data is required."
   ]
  },
  {
   "cell_type": "code",
   "execution_count": null,
   "metadata": {},
   "outputs": [],
   "source": [
    "sns.scatterplot(x='day', y='tip', data=data,) \n",
    "plt.show()"
   ]
  },
  {
   "cell_type": "markdown",
   "metadata": {},
   "source": [
    "**Line Plot** \n",
    "\n",
    "Line Plot in Seaborn plotted using the **lineplot()** method. In this, we can pass only the data argument also."
   ]
  },
  {
   "cell_type": "code",
   "execution_count": null,
   "metadata": {},
   "outputs": [],
   "source": [
    "sns.lineplot(x='day', y='tip', data=data) \n",
    "plt.show()"
   ]
  },
  {
   "cell_type": "code",
   "execution_count": null,
   "metadata": {},
   "outputs": [],
   "source": [
    "# using only data attribute \n",
    "sns.lineplot(data=data.drop(['total_bill'], axis=1)) \n",
    "plt.show()"
   ]
  },
  {
   "cell_type": "code",
   "execution_count": null,
   "metadata": {},
   "outputs": [],
   "source": [
    "sns.barplot(x='day',y='tip', data=data, hue='sex') \n",
    "plt.show()"
   ]
  },
  {
   "cell_type": "code",
   "execution_count": null,
   "metadata": {},
   "outputs": [],
   "source": [
    "sns.histplot(x='total_bill', data=data, kde=True, hue='sex') \n",
    "plt.show()"
   ]
  },
  {
   "cell_type": "markdown",
   "metadata": {},
   "source": [
    "**Bokeh**\n",
    "\n",
    " Let’s move on to the third library of our list. Bokeh is mainly famous for its interactive charts visualization. Bokeh renders its plots using HTML and JavaScript that uses modern web browsers for presenting elegant, concise construction of novel graphics with high-level interactivity."
   ]
  },
  {
   "cell_type": "code",
   "execution_count": null,
   "metadata": {},
   "outputs": [],
   "source": [
    "# importing the modules \n",
    "import bokeh \n",
    "from bokeh.plotting import figure, output_file, show \n",
    "from bokeh.palettes import magma\n",
    "import pandas as pd \n",
    "\n",
    "# instantiating the figure object \n",
    "graph = figure(title = \"Bokeh Scatter Graph\") \n",
    "\n",
    "# reading the database\n",
    "data = pd.read_csv(\"tips.csv\",delimiter =',')\n",
    "\n",
    "# Reusing the data dataframe for this visualization \n",
    "color = magma(256) \n",
    "\n",
    "# plotting the graph \n",
    "graph.scatter(data['total_bill'], data['tip'], color=color) \n",
    "\n",
    "# displaying the model\n",
    "show(graph)"
   ]
  },
  {
   "cell_type": "markdown",
   "metadata": {},
   "source": [
    "**Line Chart**\n",
    "\n",
    "A line plot can be created using the **line()** method of the plotting module."
   ]
  },
  {
   "cell_type": "code",
   "execution_count": null,
   "metadata": {},
   "outputs": [],
   "source": [
    "# importing the modules \n",
    "from bokeh.plotting import figure, output_file, show \n",
    "import pandas as pd \n",
    "\n",
    "# instantiating the figure object\n",
    "graph = figure(title = \"Bokeh Bar Chart\") \n",
    "\n",
    "# reading the database \n",
    "data = pd.read_csv(\"tips.csv\") # Reusing the data dataframe for this visualization \n",
    "\n",
    "# Count of each unique value of # tip column \n",
    "df = data['tip'].value_counts() \n",
    "\n",
    "# plotting the graph \n",
    "graph.line(df, data['tip']) \n",
    "\n",
    "# displaying the model\n",
    "show(graph)"
   ]
  },
  {
   "cell_type": "markdown",
   "metadata": {},
   "source": [
    "**Bar Chart** \n",
    "\n",
    "Bar Chart can be of two types horizontal bars and vertical bars. Each can be created using the **hbar()** and **vbar()** functions of the plotting interface respectively."
   ]
  },
  {
   "cell_type": "code",
   "execution_count": null,
   "metadata": {},
   "outputs": [],
   "source": [
    "from bokeh.plotting import figure, output_file, show\n",
    "import pandas as pd\n",
    "\n",
    "# instantiating the figure object \n",
    "graph = figure(title = \"Bokeh Bar Chart\") \n",
    "\n",
    "# reading the database \n",
    "data = pd.read_csv(\"tips.csv\") \n",
    "\n",
    "# plotting the graph \n",
    "graph.vbar(data['total_bill'], top=data['tip'],\n",
    "            legend_label = \"Bill VS Tips\", color='green') \n",
    "graph.vbar(data['tip'], top=data['size'],\n",
    "            legend_label = \"Tips VS Size\", color='red') \n",
    "graph.legend.click_policy = \"hide\" \n",
    "\n",
    "# displaying the model \n",
    "show(graph)"
   ]
  },
  {
   "cell_type": "markdown",
   "metadata": {},
   "source": [
    "**Interactive Data Visualization** \n",
    "\n",
    "One of the key features of Bokeh is to add interaction to the plots. Let’s see various interactions that can be added. \n",
    "\n",
    "**Interactive Legends** \n",
    "\n",
    "click_policy property makes the legend interactive. There are two types of interactivity – \n",
    "- Hiding: Hides the Glyphs. \n",
    "- Muting: Hiding the glyph makes it vanish completely, on the other hand, muting the glyph just de-emphasizes the glyph based on the parameters."
   ]
  },
  {
   "cell_type": "code",
   "execution_count": null,
   "metadata": {},
   "outputs": [],
   "source": [
    "# importing the modules \n",
    "from bokeh.plotting import figure, output_file, show \n",
    "import pandas as pd \n",
    "\n",
    "# instantiating the figure object \n",
    "graph = figure(title = \"Bokeh Bar Chart\") \n",
    "\n",
    "# reading the database \n",
    "data = pd.read_csv(\"tips.csv\") \n",
    "\n",
    "# plotting the graph \n",
    "graph.vbar(data['total_bill'], top=data['tip']) \n",
    "\n",
    "# displaying the model \n",
    "show(graph)"
   ]
  },
  {
   "cell_type": "code",
   "execution_count": null,
   "metadata": {},
   "outputs": [],
   "source": [
    "from bokeh.models import HoverTool\n",
    "\n",
    "graph = figure(title = \"Bokeh Bar Chart\") \n",
    "graph.vbar(data[\"total_bill\"],\n",
    "            top = data['tip'], \n",
    "            legend_label = \"Bill VS Tips\",\n",
    "            color = \"green\")\n",
    "\n",
    "graph.vbar(data[\"tip\"],\n",
    "            top = data['size'],\n",
    "            legend_label = \"Tips VS Size\",\n",
    "            color = \"red\") \n",
    "\n",
    "graph.legend.click_policy = \"hide\" \n",
    "graph.add_tools(HoverTool()) \n",
    "show(graph)"
   ]
  },
  {
   "cell_type": "code",
   "execution_count": null,
   "metadata": {},
   "outputs": [],
   "source": [
    "# Add tooltip (name, field) pairs to the tool. See below for a # description of possible field values. \n",
    "from bokeh.models import HoverTool\n",
    "\n",
    "hover = HoverTool(tooltips=[(\"index\", \"$index\"), \n",
    "                            (\"(x, y)\", \"($x, $y)\"),\n",
    "                            (\"radius\", \"@radius\"),\n",
    "                            (\"fill color\", \"@fill_color{hex, swatch}\"),\n",
    "                            (\"foo\", \"@foo\"),\n",
    "                            (\"bar\", \"@bar\"),\n",
    "                            (\"baz\", \"@baz{safe}\"),\n",
    "                            (\"total\", \"@total{$0,0.00}\") \n",
    "                            ])"
   ]
  },
  {
   "cell_type": "markdown",
   "metadata": {},
   "source": [
    "**Adding Widgets**\n",
    "\n",
    " Bokeh provides GUI features similar to HTML forms like buttons, sliders, checkboxes, etc. These provide an interactive interface to the plot that allows changing the parameters of the plot, modifying plot data, etc. Let’s see how to use and add some commonly used widgets. \n",
    " \n",
    " **Buttons:** This widget adds a simple button widget to the plot. We have to pass a custom JavaScript function to the CustomJS() method of the models class. \n",
    " \n",
    " **CheckboxGroup:** Adds a standard check box to the plot. Similarly to buttons we have to pass the custom JavaScript function to the CustomJS() method of the models class. \n",
    " \n",
    " **RadioGroup:** Adds a simple radio button and accepts a custom JavaScript function."
   ]
  },
  {
   "cell_type": "code",
   "execution_count": null,
   "metadata": {},
   "outputs": [],
   "source": [
    "from bokeh.io import show\n",
    "from bokeh.models import Button, SetValue \n",
    "\n",
    "button = Button(label=\"Foo\", \n",
    "                button_type=\"primary\") \n",
    "\n",
    "callback = SetValue(obj=button,\n",
    "                    attr=\"label\",\n",
    "                    value=\"Bar\")\n",
    "                    \n",
    "button.js_on_event(\"button_click\", callback)\n",
    "\n",
    "show(button)"
   ]
  }
 ],
 "metadata": {
  "kernelspec": {
   "display_name": "Python 3",
   "language": "python",
   "name": "python3"
  },
  "language_info": {
   "codemirror_mode": {
    "name": "ipython",
    "version": 3
   },
   "file_extension": ".py",
   "mimetype": "text/x-python",
   "name": "python",
   "nbconvert_exporter": "python",
   "pygments_lexer": "ipython3",
   "version": "3.12.1"
  }
 },
 "nbformat": 4,
 "nbformat_minor": 2
}
